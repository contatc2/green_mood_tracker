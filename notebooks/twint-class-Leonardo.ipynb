{
 "cells": [
  {
   "cell_type": "markdown",
   "metadata": {},
   "source": [
    "# Twint Data Collection"
   ]
  },
  {
   "cell_type": "markdown",
   "metadata": {},
   "source": [
    "## Import and configs"
   ]
  },
  {
   "cell_type": "code",
   "execution_count": 1,
   "metadata": {},
   "outputs": [],
   "source": [
    "import nest_asyncio\n",
    "import twint\n",
    "import pandas as pd\n",
    "\n",
    "nest_asyncio.apply()\n",
    "\n",
    "%load_ext autoreload\n",
    "%autoreload 2"
   ]
  },
  {
   "cell_type": "code",
   "execution_count": 2,
   "metadata": {},
   "outputs": [],
   "source": [
    "import sys\n",
    "sys.path.insert(0, '../green_mood_tracker/')\n",
    "from twint_class import TWINT"
   ]
  },
  {
   "cell_type": "code",
   "execution_count": 3,
   "metadata": {},
   "outputs": [
    {
     "name": "stdout",
     "output_type": "stream",
     "text": [
      "HenryHall_word2vec_large.ipynb\r\n",
      "Henryhall-roBERTa-clean.ipynb\r\n",
      "Henryhall-roBERTa.ipynb\r\n",
      "Henryhall2-roBERTa-gputest.ipynb\r\n",
      "Henryhall2-roBERTa-pluslayers-gputest.ipynb\r\n",
      "Henryhall_Dataset_download.ipynb\r\n",
      "contatc2_deep_learning.ipynb\r\n",
      "contatc2_deep_learning_binary.ipynb\r\n",
      "contatc2_word2vec_binary.ipynb\r\n",
      "data-cleaning-Leonardo.ipynb\r\n",
      "download_train-Leonardo.ipynb\r\n",
      "thomasgiannetti-clustering-v2.ipynb\r\n",
      "thomasgiannetti_clustering_functions.ipynb\r\n",
      "thomasgiannetti_machine_learning-v1.ipynb\r\n",
      "twint-class-Leonardo.ipynb\r\n"
     ]
    }
   ],
   "source": [
    "!ls"
   ]
  },
  {
   "cell_type": "code",
   "execution_count": 4,
   "metadata": {},
   "outputs": [
    {
     "name": "stdout",
     "output_type": "stream",
     "text": [
      "/Users/leonardogavaudan/code/leonardogavaudan/green_mood_tracker/notebooks\r\n"
     ]
    }
   ],
   "source": [
    "!pwd"
   ]
  },
  {
   "cell_type": "markdown",
   "metadata": {},
   "source": [
    "## General Search Function (without cities)"
   ]
  },
  {
   "cell_type": "markdown",
   "metadata": {},
   "source": [
    "### search()"
   ]
  },
  {
   "cell_type": "code",
   "execution_count": 5,
   "metadata": {},
   "outputs": [],
   "source": [
    "kwargs = dict(\n",
    "        username='realDonaldTrump',\n",
    "        keywords=['oil'],\n",
    "        since=False,\n",
    "        cities=False,\n",
    "        file_path=False,\n",
    "        limit=100\n",
    "    )\n",
    "\n",
    "t = TWINT(**kwargs)\n",
    "\n",
    "df = t.search()"
   ]
  },
  {
   "cell_type": "code",
   "execution_count": 6,
   "metadata": {},
   "outputs": [
    {
     "data": {
      "text/html": [
       "<div>\n",
       "<style scoped>\n",
       "    .dataframe tbody tr th:only-of-type {\n",
       "        vertical-align: middle;\n",
       "    }\n",
       "\n",
       "    .dataframe tbody tr th {\n",
       "        vertical-align: top;\n",
       "    }\n",
       "\n",
       "    .dataframe thead th {\n",
       "        text-align: right;\n",
       "    }\n",
       "</style>\n",
       "<table border=\"1\" class=\"dataframe\">\n",
       "  <thead>\n",
       "    <tr style=\"text-align: right;\">\n",
       "      <th></th>\n",
       "      <th>cashtags</th>\n",
       "      <th>conversation_id</th>\n",
       "      <th>created_at</th>\n",
       "      <th>date</th>\n",
       "      <th>day</th>\n",
       "      <th>geo</th>\n",
       "      <th>hashtags</th>\n",
       "      <th>hour</th>\n",
       "      <th>id</th>\n",
       "      <th>language</th>\n",
       "      <th>...</th>\n",
       "      <th>trans_src</th>\n",
       "      <th>translate</th>\n",
       "      <th>tweet</th>\n",
       "      <th>urls</th>\n",
       "      <th>user_id</th>\n",
       "      <th>user_id_str</th>\n",
       "      <th>user_rt</th>\n",
       "      <th>user_rt_id</th>\n",
       "      <th>username</th>\n",
       "      <th>video</th>\n",
       "    </tr>\n",
       "  </thead>\n",
       "  <tbody>\n",
       "    <tr>\n",
       "      <th>0</th>\n",
       "      <td>[]</td>\n",
       "      <td>1323470806240927745</td>\n",
       "      <td>1.604375e+12</td>\n",
       "      <td>2020-11-03 03:43:23</td>\n",
       "      <td>2</td>\n",
       "      <td></td>\n",
       "      <td>[]</td>\n",
       "      <td>03</td>\n",
       "      <td>1323470806240927745</td>\n",
       "      <td>en</td>\n",
       "      <td>...</td>\n",
       "      <td></td>\n",
       "      <td></td>\n",
       "      <td>Biden has vowed to ABOLISH the American oil an...</td>\n",
       "      <td>[http://Vote.DonaldJTrump.com]</td>\n",
       "      <td>25073877</td>\n",
       "      <td>25073877</td>\n",
       "      <td></td>\n",
       "      <td></td>\n",
       "      <td>realDonaldTrump</td>\n",
       "      <td>1</td>\n",
       "    </tr>\n",
       "    <tr>\n",
       "      <th>1</th>\n",
       "      <td>[]</td>\n",
       "      <td>1323422929850372098</td>\n",
       "      <td>1.604364e+12</td>\n",
       "      <td>2020-11-03 00:33:09</td>\n",
       "      <td>2</td>\n",
       "      <td></td>\n",
       "      <td>[]</td>\n",
       "      <td>00</td>\n",
       "      <td>1323422929850372098</td>\n",
       "      <td>en</td>\n",
       "      <td>...</td>\n",
       "      <td></td>\n",
       "      <td></td>\n",
       "      <td>Sleepy Joe Biden has vowed to ABOLISH the Amer...</td>\n",
       "      <td>[http://Vote.DonaldJTrump.com]</td>\n",
       "      <td>25073877</td>\n",
       "      <td>25073877</td>\n",
       "      <td></td>\n",
       "      <td></td>\n",
       "      <td>realDonaldTrump</td>\n",
       "      <td>0</td>\n",
       "    </tr>\n",
       "  </tbody>\n",
       "</table>\n",
       "<p>2 rows × 38 columns</p>\n",
       "</div>"
      ],
      "text/plain": [
       "  cashtags      conversation_id    created_at                 date  day geo  \\\n",
       "0       []  1323470806240927745  1.604375e+12  2020-11-03 03:43:23    2       \n",
       "1       []  1323422929850372098  1.604364e+12  2020-11-03 00:33:09    2       \n",
       "\n",
       "  hashtags hour                   id language  ... trans_src translate  \\\n",
       "0       []   03  1323470806240927745       en  ...                       \n",
       "1       []   00  1323422929850372098       en  ...                       \n",
       "\n",
       "                                               tweet  \\\n",
       "0  Biden has vowed to ABOLISH the American oil an...   \n",
       "1  Sleepy Joe Biden has vowed to ABOLISH the Amer...   \n",
       "\n",
       "                             urls   user_id  user_id_str user_rt user_rt_id  \\\n",
       "0  [http://Vote.DonaldJTrump.com]  25073877     25073877                      \n",
       "1  [http://Vote.DonaldJTrump.com]  25073877     25073877                      \n",
       "\n",
       "          username video  \n",
       "0  realDonaldTrump     1  \n",
       "1  realDonaldTrump     0  \n",
       "\n",
       "[2 rows x 38 columns]"
      ]
     },
     "execution_count": 6,
     "metadata": {},
     "output_type": "execute_result"
    }
   ],
   "source": [
    "df.head(2)"
   ]
  },
  {
   "cell_type": "code",
   "execution_count": 7,
   "metadata": {},
   "outputs": [
    {
     "data": {
      "text/plain": [
       "(100, 38)"
      ]
     },
     "execution_count": 7,
     "metadata": {},
     "output_type": "execute_result"
    }
   ],
   "source": [
    "df.shape"
   ]
  },
  {
   "cell_type": "code",
   "execution_count": 8,
   "metadata": {},
   "outputs": [
    {
     "data": {
      "text/plain": [
       "'Biden has vowed to ABOLISH the American oil and natural gas industries, and BAN fracking. As long as I am President, we will remain the number one producer of oil and natural gas on earth – and we will remain Energy Independent!  https://t.co/gsFSghkmdM  https://t.co/v1RYeAvhC4'"
      ]
     },
     "execution_count": 8,
     "metadata": {},
     "output_type": "execute_result"
    }
   ],
   "source": [
    "df['tweet'].iloc[0]"
   ]
  },
  {
   "cell_type": "markdown",
   "metadata": {},
   "source": [
    "### csv()"
   ]
  },
  {
   "cell_type": "code",
   "execution_count": 9,
   "metadata": {},
   "outputs": [],
   "source": [
    "kwargs = dict(\n",
    "        username='realDonaldTrump',\n",
    "        keywords=['oil'],\n",
    "        since=False,\n",
    "        cities=False,\n",
    "        file_path='../green_mood_tracker/data/general.csv',\n",
    "        limit=100,\n",
    "        overwrite=True\n",
    "    )\n",
    "    \n",
    "t = TWINT(**kwargs)\n",
    "\n",
    "df = t.csv()"
   ]
  },
  {
   "cell_type": "code",
   "execution_count": 10,
   "metadata": {},
   "outputs": [
    {
     "name": "stdout",
     "output_type": "stream",
     "text": [
      "city.csv         data.csv.gz      fossil-fuels.csv general.csv\r\n"
     ]
    }
   ],
   "source": [
    "! ls ../green_mood_tracker/data/"
   ]
  },
  {
   "cell_type": "code",
   "execution_count": 11,
   "metadata": {},
   "outputs": [],
   "source": [
    "csv = pd.read_csv('../green_mood_tracker/data/general.csv')"
   ]
  },
  {
   "cell_type": "code",
   "execution_count": 12,
   "metadata": {},
   "outputs": [
    {
     "data": {
      "text/plain": [
       "(100, 36)"
      ]
     },
     "execution_count": 12,
     "metadata": {},
     "output_type": "execute_result"
    }
   ],
   "source": [
    "csv.shape"
   ]
  },
  {
   "cell_type": "code",
   "execution_count": 13,
   "metadata": {},
   "outputs": [
    {
     "data": {
      "text/plain": [
       "'Biden has vowed to ABOLISH the American oil and natural gas industries, and BAN fracking. As long as I am President, we will remain the number one producer of oil and natural gas on earth – and we will remain Energy Independent!  https://t.co/gsFSghkmdM  https://t.co/v1RYeAvhC4'"
      ]
     },
     "execution_count": 13,
     "metadata": {},
     "output_type": "execute_result"
    }
   ],
   "source": [
    "csv['tweet'].iloc[0]"
   ]
  },
  {
   "cell_type": "markdown",
   "metadata": {},
   "source": [
    "## City Search (Most important)"
   ]
  },
  {
   "cell_type": "markdown",
   "metadata": {},
   "source": [
    "### city_df()"
   ]
  },
  {
   "cell_type": "code",
   "execution_count": 14,
   "metadata": {},
   "outputs": [],
   "source": [
    "kwargs = dict(\n",
    "    keywords=['renewable','energy'],\n",
    "    cities=['San Diego'],\n",
    "    since = '2000-10-11 12:00:00',\n",
    "    limit=200\n",
    ")\n",
    "\n",
    "t = TWINT(**kwargs)\n",
    "\n",
    "df_city = t.city_df()"
   ]
  },
  {
   "cell_type": "code",
   "execution_count": 15,
   "metadata": {},
   "outputs": [
    {
     "data": {
      "text/plain": [
       "(['renewable', 'energy'], ['San Diego'], '2000-10-11 12:00:00')"
      ]
     },
     "execution_count": 15,
     "metadata": {},
     "output_type": "execute_result"
    }
   ],
   "source": [
    "t.keywords, t.cities, t.since"
   ]
  },
  {
   "cell_type": "code",
   "execution_count": 16,
   "metadata": {},
   "outputs": [
    {
     "data": {
      "text/plain": [
       "(193, 38)"
      ]
     },
     "execution_count": 16,
     "metadata": {},
     "output_type": "execute_result"
    }
   ],
   "source": [
    "df_city.shape"
   ]
  },
  {
   "cell_type": "code",
   "execution_count": 17,
   "metadata": {},
   "outputs": [
    {
     "data": {
      "text/plain": [
       "'Chernobyl Survivor Turned Renewable Energy Entrepreneur: Eco Wave Power CEO Inna Braverman to discusses her experience as a Chernobyl survivor turned Renewable Energy Entrepreneur.  https://t.co/hUOui17mIK'"
      ]
     },
     "execution_count": 17,
     "metadata": {},
     "output_type": "execute_result"
    }
   ],
   "source": [
    "df_city['tweet'].iloc[0]"
   ]
  },
  {
   "cell_type": "markdown",
   "metadata": {},
   "source": [
    "### city_csv()"
   ]
  },
  {
   "cell_type": "code",
   "execution_count": 44,
   "metadata": {},
   "outputs": [
    {
     "name": "stdout",
     "output_type": "stream",
     "text": [
      "[!] No more data! Scraping will stop now.\n",
      "found 0 deleted tweets in this search.\n",
      "[!] No more data! Scraping will stop now.\n",
      "found 0 deleted tweets in this search.\n",
      "[!] No more data! Scraping will stop now.\n",
      "found 0 deleted tweets in this search.\n"
     ]
    }
   ],
   "source": [
    "kwargs = dict(\n",
    "    keywords=['solar'],\n",
    "    cities=['San Antonio', 'San Diego', 'Las Vegas'],\n",
    "    since = '2006-01-01 12:00:00',\n",
    "    limit=10000,\n",
    "    file_path='../green_mood_tracker/data/city.csv',\n",
    "    overwrite=True\n",
    ")\n",
    "\n",
    "t = TWINT(**kwargs)\n",
    "\n",
    "df_city = t.city_csv()"
   ]
  },
  {
   "cell_type": "code",
   "execution_count": 45,
   "metadata": {},
   "outputs": [
    {
     "name": "stdout",
     "output_type": "stream",
     "text": [
      "city.csv         data.csv.gz      fossil-fuels.csv general.csv\r\n"
     ]
    }
   ],
   "source": [
    "! ls ../green_mood_tracker/data/"
   ]
  },
  {
   "cell_type": "code",
   "execution_count": 46,
   "metadata": {},
   "outputs": [],
   "source": [
    "csv = pd.read_csv('../green_mood_tracker/data/city.csv')"
   ]
  },
  {
   "cell_type": "code",
   "execution_count": 47,
   "metadata": {},
   "outputs": [
    {
     "data": {
      "text/plain": [
       "(5555, 36)"
      ]
     },
     "execution_count": 47,
     "metadata": {},
     "output_type": "execute_result"
    }
   ],
   "source": [
    "csv.shape"
   ]
  },
  {
   "cell_type": "code",
   "execution_count": 48,
   "metadata": {},
   "outputs": [
    {
     "data": {
      "text/plain": [
       "array(['en'], dtype=object)"
      ]
     },
     "execution_count": 48,
     "metadata": {},
     "output_type": "execute_result"
    }
   ],
   "source": [
    "csv['language'].unique()"
   ]
  },
  {
   "cell_type": "code",
   "execution_count": 49,
   "metadata": {},
   "outputs": [
    {
     "data": {
      "text/plain": [
       "'@vegix @Lincoln1710 The Republican solar system  https://t.co/SP9YA03mHH'"
      ]
     },
     "execution_count": 49,
     "metadata": {},
     "output_type": "execute_result"
    }
   ],
   "source": [
    "csv['tweet'].iloc[0]"
   ]
  },
  {
   "cell_type": "code",
   "execution_count": 50,
   "metadata": {},
   "outputs": [],
   "source": [
    "csv[['id', 'tweet']].to_excel('~/Downloads/city.xlsx', index=False)"
   ]
  },
  {
   "cell_type": "code",
   "execution_count": null,
   "metadata": {},
   "outputs": [],
   "source": []
  }
 ],
 "metadata": {
  "kernelspec": {
   "display_name": "Python 3",
   "language": "python",
   "name": "python3"
  },
  "language_info": {
   "codemirror_mode": {
    "name": "ipython",
    "version": 3
   },
   "file_extension": ".py",
   "mimetype": "text/x-python",
   "name": "python",
   "nbconvert_exporter": "python",
   "pygments_lexer": "ipython3",
   "version": "3.7.7"
  },
  "toc": {
   "base_numbering": 1,
   "nav_menu": {},
   "number_sections": true,
   "sideBar": true,
   "skip_h1_title": false,
   "title_cell": "Table of Contents",
   "title_sidebar": "Contents",
   "toc_cell": false,
   "toc_position": {},
   "toc_section_display": true,
   "toc_window_display": false
  }
 },
 "nbformat": 4,
 "nbformat_minor": 4
}
